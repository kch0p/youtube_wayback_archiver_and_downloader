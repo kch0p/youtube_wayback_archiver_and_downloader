{
 "cells": [
  {
   "cell_type": "code",
   "execution_count": 15,
   "id": "def71a8e",
   "metadata": {},
   "outputs": [],
   "source": [
    "# import pytube\n",
    "# https://github.com/GaziAdib/python-youtube-analyser-scrapper/blob/master/yt_channel.py\n",
    "\n",
    "from pytube import Channel\n",
    "from waybackpy import WaybackMachineSaveAPI\n",
    "import time\n",
    "import threading"
   ]
  },
  {
   "cell_type": "code",
   "execution_count": 16,
   "id": "31db09dd",
   "metadata": {},
   "outputs": [],
   "source": [
    "channel = Channel('https://www.youtube.com/channel/UC9K82e-1zNzYKRuZM0uheWA')"
   ]
  },
  {
   "cell_type": "code",
   "execution_count": 17,
   "id": "705b1ee2",
   "metadata": {
    "scrolled": true
   },
   "outputs": [],
   "source": [
    "videos_online = []\n",
    "\n",
    "for video in channel.videos:\n",
    "    videos_online.append(video.title)"
   ]
  },
  {
   "cell_type": "code",
   "execution_count": 8,
   "id": "b120ce01",
   "metadata": {
    "collapsed": true
   },
   "outputs": [
    {
     "name": "stdout",
     "output_type": "stream",
     "text": [
      "2 material rail for grinding.mp4\r\n",
      "5 Things to do when youre bored.mp4\r\n",
      "A Thing I Made.mp4\r\n",
      "Attempting to Play FNAF.mp4\r\n",
      "BEAST.mp4\r\n",
      "Baby bird nest 1.mp4\r\n",
      "Bird video 2.mp4\r\n",
      "Birds day 2.mp4\r\n",
      "Birds night 1.mp4\r\n",
      "Blockus (Brutal).mp4\r\n",
      "COOL ORIGAMI INFINITY TOYS.mp4\r\n",
      "CRYSTAL.mp4\r\n",
      "Card Knife Review.mp4\r\n",
      "Check this out.mp4\r\n",
      "Checking out awesome tree fort.mp4\r\n",
      "Checking out the Rinconada mercury mine.mp4\r\n",
      "Chimney Crack 58.mp4\r\n",
      "Chopstick switchblade.mp4\r\n",
      "Cool Balance Toy.mp4\r\n",
      "Cool New Camera.mp4\r\n",
      "Cool Rainbow Name Tag.mp4\r\n",
      "Cool cardboard switchblade.mp4\r\n",
      "Cool drink life hack.mp4\r\n",
      "Cool portal tube.mp4\r\n",
      "Couch Fort.mp4\r\n",
      "Cupe of Noodles Lied to Us.mp4\r\n",
      "Day 2 of riding downhill on a beach chair attached to a skateboard.mp4\r\n",
      "Death Slide.mp4\r\n",
      "Doing a Trypophobia Test.mp4\r\n",
      "EXPLORING CAVE!!!!.mp4\r\n",
      "EXPLORING COOL CAVE!!!!!.mp4\r\n",
      "Eating Food.mp4\r\n",
      "Exploring Reservoir Canyon Cave!!.mp4\r\n",
      "Exploring Small Cave at Pismo Beach.mp4\r\n",
      "FIRST FULL VIDOE OF 2019!!!!!!!!!!!!!_.mp4\r\n",
      "Fart bomb prank.mp4\r\n",
      "Firecracker mini Auto knife unboxing.mp4\r\n",
      "Fun at The Beach.mp4\r\n",
      "Fwd assault wall glitch.mp4\r\n",
      "Getting a New Phone.mp4\r\n",
      "Going to San Francisco for the first time!!!.mp4\r\n",
      "Graffiti letters.mp4\r\n",
      "Green Screen FUN!.mp4\r\n",
      "Green V3 dyno.mp4\r\n",
      "Hand whistle tutorial.mp4\r\n",
      "Head bobs V3-4 at Breakwater boulder.mp4\r\n",
      "Homage TECH DECK ramps.mp4\r\n",
      "Homemade TV.mp4\r\n",
      "Homemade airsoft gub.mp4\r\n",
      "How I top my pancakes (BIG PANCAKE).mp4\r\n",
      "How To Warp a FIDGET SPINNER.mp4\r\n",
      "How much can one possibly use a fog machine.mp4\r\n",
      "How to Draw a Perfect Fidget Widget.mp4\r\n",
      "How to Make a Thumbnail on Google Docs.mp4\r\n",
      "How to do an ole on a skateboard.mp4\r\n",
      "How to make 2 different tornado sirens in mincraft.mp4\r\n",
      "How to make a 2 material Teach Deck.mp4\r\n",
      "How to make a PAINT STICK BOOMERANG!.mp4\r\n",
      "How to make a whirlpool.mp4\r\n",
      "How to make red dot sight  Tutorial.mp4\r\n",
      "I MakeRandomVideos Live Stream.mp4\r\n",
      "I dont think switchblades should be illegal.mp4\r\n",
      "I have a concussion not clickbait.mp4\r\n",
      "I hill bomb a hill on a beach chair that is on a skateboard.mp4\r\n",
      "I messed up my name by accident.mp4\r\n",
      "IDK.mp4\r\n",
      "Im not using my intro.mp4\r\n",
      "Infinite Chocolate           (not really).mp4\r\n",
      "It actually worked!.mp4\r\n",
      "It’s raining really hard.mp4\r\n",
      "Jumping into pit  The Forest.mp4\r\n",
      "KC ASMR.mp4\r\n",
      "Light hail.mp4\r\n",
      "Lightning.mp4\r\n",
      "Lil May Summer 18 Minutes.mp4\r\n",
      "Lol.mp4\r\n",
      "MESSAGE IN A BOTTLE!!!!!!.mp4\r\n",
      "MY CAMERA IS FINALLY WATERPROOF!!!!.mp4\r\n",
      "Made new crossbow bolt!!!.mp4\r\n",
      "Maggie the ghost dog.mp4\r\n",
      "Magic.mp4\r\n",
      "Messing around on go-kart at night.mp4\r\n",
      "Messing around with cool TNT cannons.mp4\r\n",
      "Milwaukee Knife REVIEW!!!!!!.mp4\r\n",
      "Mushy V3 Project.mp4\r\n",
      "My cat chases lasers.mp4\r\n",
      "NEW TRYPOD!!!!!!!!!!!!!!!!!!!!!!.mp4\r\n",
      "New Mini Switchblade Review.mp4\r\n",
      "New Slingshot 2.mp4\r\n",
      "New butterfly knife unboxing.mp4\r\n",
      "New karambit.mp4\r\n",
      "Oddly satisfying.mp4\r\n",
      "PUBG survive till dawnGOING SOLO.mp4\r\n",
      "Paper Shirikin.mp4\r\n",
      "Park At Night.mp4\r\n",
      "Park at night 2.mp4\r\n",
      "Park at night 3.mp4\r\n",
      "Petco corner V2-3.mp4\r\n",
      "Pho Whisperers - Oki Momo in SLO.mp4\r\n",
      "Playing COD Mobile.mp4\r\n",
      "Playing FancyPants 1 Remix.mp4\r\n",
      "Playing FancyPants 2 (Part 1).mp4\r\n",
      "Playing FancyPants World 1 (the first game).mp4\r\n",
      "Playing FancyPants2 (Part 2).mp4\r\n",
      "Playing Games With KC.mp4\r\n",
      "Playing Getting Over It 2.mp4\r\n",
      "Playing Roblox (criminals vs SWAT).mp4\r\n",
      "Playing Roblox (maybe other games).mp4\r\n",
      "Reacting To OCD Test.mp4\r\n",
      "Reacting to an Animals Life (TRY NOT TO CRY).mp4\r\n",
      "Roblox part 2 (The True Backrooms).mp4\r\n",
      "Roblox.mp4\r\n",
      "Skating Level (Fancy Pants 1 Remix).mp4\r\n",
      "Slingshot Unboxing  SPLEEBER.mp4\r\n",
      "Spider.mp4\r\n",
      "Stuck in quicksand.mp4\r\n",
      "THANK YOU.mp4\r\n",
      "THIS IS SO COOL!!!.mp4\r\n",
      "TRY NOT TO CRINGE!!!!!.mp4\r\n",
      "Tech Deck ramp review.mp4\r\n",
      "Testing new stabilizer.mp4\r\n",
      "Testing the NIGHTFOX 110R night vision.mp4\r\n",
      "The joy of magic.mp4\r\n",
      "The sky is yellow.mp4\r\n",
      "The sun is pink.mp4\r\n",
      "The waffle dog is dirty.mp4\r\n",
      "Throwing boomerang at the beach 1.mp4\r\n",
      "Throwing boomerang at the beach 2.mp4\r\n",
      "Throwing homemade boomerang.mp4\r\n",
      "TrAPOLINE TRICKS.mp4\r\n",
      "Trash bag challenge.mp4\r\n",
      "Trenches part 3 wayyyyyyyy better videobetter quicksand better lighting better everything.mp4\r\n",
      "Trying To Use Homemade Sheperds Sling.mp4\r\n",
      "Trying an Astronaught Snack!!!.mp4\r\n",
      "WHY!!!!!!!!! (Playing getting over it by Adam Cattle).mp4\r\n",
      "Wacky cold war gameplay.mp4\r\n",
      "Watch the whole video.mp4\r\n",
      "We Explore Tunnels.mp4\r\n",
      "What Happens When You Pour Boiling Water on an Apple.mp4\r\n",
      "WheN uR hUngeRy.mp4\r\n",
      "Whirlpool update.mp4\r\n",
      "Why have I done this to my cat.mp4\r\n",
      "Wow Reverse.mp4\r\n",
      "a thing i put together.mp4\r\n",
      "an intro.mp4\r\n",
      "cinoman challenge.mp4\r\n",
      "cod mobile WARFARE.mp4\r\n",
      "cool way to tie a knot.mp4\r\n",
      "how to make a cool noise with a glass.mp4\r\n",
      "marker magic.mp4\r\n",
      "playing forward assault with my brother and a random person.mp4\r\n"
     ]
    }
   ],
   "source": [
    "for i in os.listdir():\n",
    "    temp_df = pd.read_csv(i)\n",
    "    bad_2[col] = pd.Series(temp_df.columns)\n",
    "    col += 1\n",
    "    "
   ]
  },
  {
   "cell_type": "code",
   "execution_count": 18,
   "id": "c8493463",
   "metadata": {},
   "outputs": [],
   "source": [
    "import os"
   ]
  },
  {
   "cell_type": "code",
   "execution_count": 19,
   "id": "92e05992",
   "metadata": {},
   "outputs": [
    {
     "data": {
      "text/plain": [
       "152"
      ]
     },
     "execution_count": 19,
     "metadata": {},
     "output_type": "execute_result"
    }
   ],
   "source": [
    "len(os.listdir())"
   ]
  },
  {
   "cell_type": "code",
   "execution_count": 24,
   "id": "aee726db",
   "metadata": {},
   "outputs": [],
   "source": [
    "titles = []\n",
    "\n",
    "for i in os.listdir():\n",
    "    titles.append(i.replace('.mp4', ''))"
   ]
  },
  {
   "cell_type": "code",
   "execution_count": 25,
   "id": "e72bbf94",
   "metadata": {
    "scrolled": false
   },
   "outputs": [
    {
     "data": {
      "text/plain": [
       "['FIRST FULL VIDOE OF 2019!!!!!!!!!!!!!_',\n",
       " '5 Things to do when youre bored',\n",
       " 'Trying To Use Homemade Sheperds Sling',\n",
       " 'Lil May Summer 18 Minutes',\n",
       " 'Roblox part 2 (The True Backrooms)',\n",
       " 'Trenches part 3 wayyyyyyyy better videobetter quicksand better lighting better everything',\n",
       " 'Chimney Crack 58',\n",
       " 'Playing Getting Over It 2',\n",
       " 'IDK',\n",
       " 'Im not using my intro',\n",
       " 'Bird video 2',\n",
       " 'cod mobile WARFARE',\n",
       " 'Slingshot Unboxing  SPLEEBER',\n",
       " 'PUBG survive till dawnGOING SOLO',\n",
       " 'Playing Roblox (criminals vs SWAT)',\n",
       " '.DS_Store',\n",
       " 'Head bobs V3-4 at Breakwater boulder',\n",
       " 'Reacting to an Animals Life (TRY NOT TO CRY)',\n",
       " 'Baby bird nest 1',\n",
       " 'How to make red dot sight  Tutorial',\n",
       " 'Jumping into pit  The Forest']"
      ]
     },
     "execution_count": 25,
     "metadata": {},
     "output_type": "execute_result"
    }
   ],
   "source": [
    "list(set(titles) - set(videos_online))"
   ]
  }
 ],
 "metadata": {
  "kernelspec": {
   "display_name": "Python 3.10.5 64-bit",
   "language": "python",
   "name": "python3"
  },
  "language_info": {
   "codemirror_mode": {
    "name": "ipython",
    "version": 3
   },
   "file_extension": ".py",
   "mimetype": "text/x-python",
   "name": "python",
   "nbconvert_exporter": "python",
   "pygments_lexer": "ipython3",
   "version": "3.10.5"
  },
  "vscode": {
   "interpreter": {
    "hash": "aee8b7b246df8f9039afb4144a1f6fd8d2ca17a180786b69acc140d282b71a49"
   }
  }
 },
 "nbformat": 4,
 "nbformat_minor": 5
}
