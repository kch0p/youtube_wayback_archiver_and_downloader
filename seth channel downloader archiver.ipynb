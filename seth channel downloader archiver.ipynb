{
 "cells": [
  {
   "cell_type": "code",
   "execution_count": 21,
   "id": "af6498fb",
   "metadata": {},
   "outputs": [],
   "source": [
    "# !pip install pytube\n",
    "# !pip install waybackpy"
   ]
  },
  {
   "cell_type": "code",
   "execution_count": 20,
   "id": "b5cbc423",
   "metadata": {},
   "outputs": [],
   "source": [
    "# import pytube\n",
    "from pytube import Channel\n",
    "from waybackpy import WaybackMachineSaveAPI"
   ]
  },
  {
   "cell_type": "code",
   "execution_count": 37,
   "id": "511b55d8",
   "metadata": {},
   "outputs": [],
   "source": [
    "channel = Channel('https://www.youtube.com/channel/UC9K82e-1zNzYKRuZM0uheWA')"
   ]
  },
  {
   "cell_type": "code",
   "execution_count": 65,
   "id": "67a2f1ee",
   "metadata": {},
   "outputs": [
    {
     "name": "stdout",
     "output_type": "stream",
     "text": [
      "Chimney Crack 5.8  has downloaded, and wayback save status is:  True ( https://web.archive.org/web/20221010173821/https://youtube.com/watch?v=GcN5vfdvB2A )\n",
      "\n",
      "Playing COD Mobile  has downloaded, and wayback save status is:  True ( https://web.archive.org/web/20221010173951/https://youtube.com/watch?v=ntsZfsFFuKc )\n",
      "\n"
     ]
    }
   ],
   "source": [
    "for video in channel.videos[:2]:\n",
    "    video.streams.get_highest_resolution().download('seth yt backup')\n",
    "    \n",
    "    save_api = WaybackMachineSaveAPI(video.watch_url, user_agent)\n",
    "    save_api.save()\n",
    "    print(video.title,' has downloaded, and wayback save status is: ',save_api.cached_save,'(',save_api.archive_url,')\\n')\n",
    "    \n",
    "    \n",
    "#     my_video.download('~/Downloads') https://stackoverflow.com/questions/65463820/change-download-location-to-downloads-in-pytube-in-python"
   ]
  },
  {
   "cell_type": "code",
   "execution_count": null,
   "id": "9189445a",
   "metadata": {},
   "outputs": [],
   "source": [
    "# https://pypi.org/project/waybackpy/\n",
    "user_agent = 'Mozilla/5.0 (Macintosh; Intel Mac OS X 10.15; rv:105.0) Gecko/20100101 Firefox/105.0'\n",
    "\n",
    "for video in channel.videos[:2]:\n",
    "    \n",
    "    save_api = WaybackMachineSaveAPI(video.watch_url, user_agent)\n",
    "    save_api.save()\n",
    "    print(video.title,' has downloaded, and wayback save status is: ',save_api.cached_save)"
   ]
  },
  {
   "cell_type": "code",
   "execution_count": 63,
   "id": "b8950e87",
   "metadata": {},
   "outputs": [
    {
     "data": {
      "text/plain": [
       "'https://web.archive.org/web/20221010173951/https://youtube.com/watch?v=ntsZfsFFuKc'"
      ]
     },
     "execution_count": 63,
     "metadata": {},
     "output_type": "execute_result"
    }
   ],
   "source": [
    "save_api.archive_url"
   ]
  },
  {
   "cell_type": "code",
   "execution_count": null,
   "id": "fd9688d0",
   "metadata": {},
   "outputs": [],
   "source": []
  }
 ],
 "metadata": {
  "kernelspec": {
   "display_name": "Python 3 (ipykernel)",
   "language": "python",
   "name": "python3"
  },
  "language_info": {
   "codemirror_mode": {
    "name": "ipython",
    "version": 3
   },
   "file_extension": ".py",
   "mimetype": "text/x-python",
   "name": "python",
   "nbconvert_exporter": "python",
   "pygments_lexer": "ipython3",
   "version": "3.9.12"
  }
 },
 "nbformat": 4,
 "nbformat_minor": 5
}
